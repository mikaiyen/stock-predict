{
 "cells": [
  {
   "cell_type": "code",
   "execution_count": 1,
   "id": "501b72f0",
   "metadata": {},
   "outputs": [
    {
     "name": "stdout",
     "output_type": "stream",
     "text": [
      "Date      0\n",
      "Open      0\n",
      "High      0\n",
      "Low       0\n",
      "Close     0\n",
      "Volume    0\n",
      "trend     0\n",
      "dtype: int64\n",
      "            Date   Open   High    Low  Close     Volume  trend\n",
      "0     2012-01-02   75.0   75.4   74.7   75.0  14945.219      1\n",
      "1     2012-01-03   75.5   75.9   75.2   75.7  21223.640      1\n",
      "2     2012-01-04   76.1   76.1   75.5   75.8  34126.472      1\n",
      "3     2012-01-05   76.0   76.0   75.3   76.0  28076.670      1\n",
      "4     2012-01-06   75.9   75.9   74.9   75.6  30123.118      1\n",
      "...          ...    ...    ...    ...    ...        ...    ...\n",
      "1962  2019-12-25  332.0  334.5  331.0  333.0  12262.954      0\n",
      "1963  2019-12-26  333.0  334.0  331.5  333.0  11427.884      0\n",
      "1964  2019-12-27  335.0  338.0  335.0  338.0  16677.806      0\n",
      "1965  2019-12-30  338.0  339.0  334.0  334.5  21591.263      0\n",
      "1966  2019-12-31  331.0  333.5  331.0  331.0  22950.517      0\n",
      "\n",
      "[1967 rows x 7 columns]\n"
     ]
    }
   ],
   "source": [
    "import numpy as np\n",
    "import pandas as pd\n",
    "import datetime as datetime\n",
    "\n",
    "data = pd.read_csv('df2330_12to22.csv')\n",
    "\n",
    "data['trend'] = np.where(data.Close.shift(-5) > data.Close, 1, 0)\n",
    "print(data.isnull().sum())\n",
    "\n",
    "print(data)\n"
   ]
  },
  {
   "cell_type": "code",
   "execution_count": 2,
   "id": "4a393a07",
   "metadata": {},
   "outputs": [],
   "source": [
    "# 決定切割比例為 70%:30%\n",
    "split_point = int(len(data)*0.7)\n",
    "# 切割成學習樣本以及測試樣本\n",
    "train = data.iloc[:split_point,:].copy()\n",
    "test = data.iloc[split_point:-5,:].copy()"
   ]
  },
  {
   "cell_type": "code",
   "execution_count": 5,
   "id": "597d8f49",
   "metadata": {},
   "outputs": [],
   "source": [
    "# 訓練樣本再分成目標序列 y 以及因子矩陣 X\n",
    "train_X = train.drop('trend', axis = 1)\n",
    "train_y = train.trend\n",
    "# 測試樣本再分成目標序列 y 以及因子矩陣 X\n",
    "test_X = test.drop('trend', axis = 1)\n",
    "test_y = test.trend"
   ]
  },
  {
   "cell_type": "code",
   "execution_count": null,
   "id": "b30e690c",
   "metadata": {},
   "outputs": [],
   "source": []
  }
 ],
 "metadata": {
  "kernelspec": {
   "display_name": "Python 3 (ipykernel)",
   "language": "python",
   "name": "python3"
  },
  "language_info": {
   "codemirror_mode": {
    "name": "ipython",
    "version": 3
   },
   "file_extension": ".py",
   "mimetype": "text/x-python",
   "name": "python",
   "nbconvert_exporter": "python",
   "pygments_lexer": "ipython3",
   "version": "3.9.15"
  }
 },
 "nbformat": 4,
 "nbformat_minor": 5
}
